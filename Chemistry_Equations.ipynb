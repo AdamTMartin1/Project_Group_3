{
 "cells": [
  {
   "cell_type": "code",
   "execution_count": null,
   "metadata": {},
   "outputs": [],
   "source": [
    "#Chem equations for the Project \n",
    "\n",
    "# % yeild = (mass of desired products/total mass of reactants)x100\n",
    "Choices = int(input(\"Enter in  a number\"))\n",
    "class Perc_Yield():\n",
    "    def __init__(self, ActualYield, TheoreticalYield):\n",
    "        self.AY = ActualYield\n",
    "        self.TY = TheoreticalYield\n",
    "    def Percentage_Yield(self):\n",
    "        Perc_Yield = (self.AY/self.TY)*100\n",
    "        print(\"Percentage Yield\", Perc_Yield)\n",
    "        \n",
    "Choices == 7        \n",
    "    ActualYield = float(input(\"ActualYield\"))\n",
    "    TheoreticalYield = float(input(\"TheoreticalYield\"))\n",
    "    Percentage_yield = Perc_Yield(ActualYield,TheoreticalYield)\n",
    "    Percentage_yield.Percentage_Yield()\n",
    "\n",
    "\n"
   ]
  },
  {
   "cell_type": "code",
   "execution_count": 4,
   "metadata": {},
   "outputs": [
    {
     "name": "stdout",
     "output_type": "stream",
     "text": [
      "Enter in  a number8\n",
      "Hydrogen_ion_concentration0.1\n",
      "pH 1.0\n"
     ]
    }
   ],
   "source": [
    "# pH =-log10[H+]\n",
    "Choices = int(input(\"Enter in  a number\"))\n",
    "import math\n",
    "class pH():\n",
    "    def __init__(self, Hydrogen_ion_concentration):\n",
    "        self.H = Hydrogen_ion_concentration\n",
    "    def pH_H(self):\n",
    "        pH = -1* (math.log10(self.H))\n",
    "        print(\"pH\", pH)\n",
    "\n",
    "if Choices == 8:\n",
    "    Hydrogen_ion_concentration = float(input(\"Hydrogen_ion_concentration\"))\n",
    "    pHa = pH(Hydrogen_ion_concentration)\n",
    "    pHa.pH_H()"
   ]
  },
  {
   "cell_type": "code",
   "execution_count": 11,
   "metadata": {},
   "outputs": [],
   "source": []
  },
  {
   "cell_type": "code",
   "execution_count": 14,
   "metadata": {},
   "outputs": [
    {
     "name": "stdin",
     "output_type": "stream",
     "text": [
      "Enter in  a number 9\n",
      "Hydroxide_ion_concentration 4.7\n"
     ]
    },
    {
     "name": "stdout",
     "output_type": "stream",
     "text": [
      "pOH 13.327902142064282\n"
     ]
    }
   ],
   "source": [
    "Choices = int(input(\"Enter in  a number\"))\n",
    "import math\n",
    "class pOH():\n",
    "    def __init__(self, Hydroxide_ion_concentration):\n",
    "        self.OH = Hydroxide_ion_concentration\n",
    "    def pH_OH(self):\n",
    "        pOH = -1* math.log10(self.OH)\n",
    "        print(\"pOH\", pOH+14)\n",
    "\n",
    "if Choices == 9:\n",
    "    Hydroxide_ion_concentration = float(input(\"Hydroxide_ion_concentration\"))\n",
    "    pHa = pOH(Hydroxide_ion_concentration)\n",
    "    pHa.pH_OH()"
   ]
  }
 ],
 "metadata": {
  "kernelspec": {
   "display_name": "Python 3",
   "language": "python",
   "name": "python3"
  },
  "language_info": {
   "codemirror_mode": {
    "name": "ipython",
    "version": 3
   },
   "file_extension": ".py",
   "mimetype": "text/x-python",
   "name": "python",
   "nbconvert_exporter": "python",
   "pygments_lexer": "ipython3",
   "version": "3.8.3"
  }
 },
 "nbformat": 4,
 "nbformat_minor": 4
}
